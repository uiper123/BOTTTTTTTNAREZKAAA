{
 "cells": [
  {
   "cell_type": "markdown",
   "metadata": {
    "id": "video-bot-title"
   },
   "source": [
    "# 🤖 Telegram Video Bot для нарезки видео на шотсы\n",
    "\n",
    "Этот notebook запускает Telegram бота, который:\n",
    "- Скачивает видео с YouTube\n",
    "- Нарезает их на короткие клипы (шотсы)\n",
    "- Загружает на Google Drive\n",
    "- Добавляет заголовки и подзаголовки\n",
    "\n",
    "## 📋 Требования:\n",
    "1. Токен Telegram бота\n",
    "2. Google OAuth токен (base64)\n",
    "3. Репозиторий с кодом на GitHub"
   ]
  },
  {
   "cell_type": "markdown",
   "metadata": {
    "id": "setup-section"
   },
   "source": [
    "## 🔧 Установка зависимостей"
   ]
  },
  {
   "cell_type": "code",
   "execution_count": null,
   "metadata": {
    "id": "install-system-deps"
   },
   "outputs": [],
   "source": [
    "# Установка системных зависимостей\n",
    "!apt update -qq\n",
    "!apt install -y ffmpeg\n",
    "\n",
    "# Проверяем установку ffmpeg\n",
    "!ffmpeg -version | head -1"
   ]
  },
  {
   "cell_type": "code",
   "execution_count": null,
   "metadata": {
    "id": "clone-repo"
   },
   "outputs": [],
   "source": [
    "# Клонируем репозиторий с ботом\n",
    "import os\n",
    "\n",
    "# Замените на ваш GitHub репозиторий\n",
    "GITHUB_REPO = \"https://github.com/YOUR_USERNAME/YOUR_REPO.git\"\n",
    "\n",
    "# Клонируем репозиторий\n",
    "if not os.path.exists('telegram-video-bot'):\n",
    "    !git clone {GITHUB_REPO} telegram-video-bot\n",
    "else:\n",
    "    print(\"Репозиторий уже клонирован\")\n",
    "\n",
    "# Переходим в папку проекта\n",
    "%cd telegram-video-bot"
   ]
  },
  {
   "cell_type": "code",
   "execution_count": null,
   "metadata": {
    "id": "install-python-deps"
   },
   "outputs": [],
   "source": [
    "# Установка Python зависимостей с оптимизациями для Colab\n",
    "!pip install -q python-telegram-bot==20.7\n",
    "!pip install -q yt-dlp==2023.12.30\n",
    "!pip install -q ffmpeg-python==0.2.0\n",
    "!pip install -q openai-whisper==20231117\n",
    "!pip install -q google-api-python-client==2.108.0\n",
    "!pip install -q google-auth-httplib2==0.1.1\n",
    "!pip install -q google-auth-oauthlib==1.1.0\n",
    "!pip install -q python-dotenv==1.0.0\n",
    "!pip install -q Pillow==10.1.0\n",
    "!pip install -q moviepy==1.0.3\n",
    "\n",
    "# Дополнительные пакеты для оптимизации\n",
    "!pip install -q torch torchvision torchaudio --index-url https://download.pytorch.org/whl/cu118\n",
    "!pip install -q nest-asyncio\n",
    "\n",
    "print(\"✅ Все зависимости установлены!\")"
   ]
  },
  {
   "cell_type": "markdown",
   "metadata": {
    "id": "config-section"
   },
   "source": [
    "## ⚙️ Настройка конфигурации"
   ]
  },
  {
   "cell_type": "code",
   "execution_count": null,
   "metadata": {
    "id": "setup-env"
   },
   "outputs": [],
   "source": [
    "# Настройка переменных окружения\n",
    "import os\n",
    "from google.colab import userdata\n",
    "\n",
    "# Получаем токены из Colab Secrets или вводим вручную\n",
    "try:\n",
    "    # Попытка получить из Colab Secrets\n",
    "    TELEGRAM_BOT_TOKEN = userdata.get('TELEGRAM_BOT_TOKEN')\n",
    "    GOOGLE_OAUTH_TOKEN_BASE64 = userdata.get('GOOGLE_OAUTH_TOKEN_BASE64')\n",
    "    print(\"✅ Токены получены из Colab Secrets\")\nexcept:\n",
    "    # Ввод вручную\n",
    "    print(\"❌ Токены не найдены в Colab Secrets\")\n",
    "    print(\"Введите токены вручную:\")\n",
    "    \n",
    "    TELEGRAM_BOT_TOKEN = input(\"Telegram Bot Token: \")\n",
    "    GOOGLE_OAUTH_TOKEN_BASE64 = input(\"Google OAuth Token (base64): \")\n",
    "\n",
    "# Создаем .env файл\n",
    "env_content = f\"\"\"TELEGRAM_BOT_TOKEN={TELEGRAM_BOT_TOKEN}\n",
    "GOOGLE_OAUTH_TOKEN_BASE64={GOOGLE_OAUTH_TOKEN_BASE64}\n",
    "\"\"\"\n",
    "\n",
    "with open('.env', 'w') as f:\n",
    "    f.write(env_content)\n",
    "\n",
    "print(\"✅ Файл .env создан\")"
   ]
  },
  {
   "cell_type": "markdown",
   "metadata": {
    "id": "colab-secrets-info"
   },
   "source": [
    "### 🔐 Как добавить токены в Colab Secrets:\n",
    "\n",
    "1. Нажмите на иконку 🔑 в левой панели Colab\n",
    "2. Добавьте следующие секреты:\n",
    "   - `TELEGRAM_BOT_TOKEN` - токен вашего Telegram бота\n",
    "   - `GOOGLE_OAUTH_TOKEN_BASE64` - токен Google OAuth в формате base64\n",
    "\n",
    "Это более безопасный способ хранения токенов!"
   ]
  },
  {
   "cell_type": "markdown",
   "metadata": {
    "id": "run-section"
   },
   "source": [
    "## 🚀 Запуск бота"
   ]
  },
  {
   "cell_type": "code",
   "execution_count": null,
   "metadata": {
    "id": "check-resources"
   },
   "outputs": [],
   "source": [
    "# Проверяем доступные ресурсы Colab\n",
    "import torch\n",
    "import psutil\n",
    "import os\n",
    "\n",
    "print(\"🖥️ Информация о системе:\")\n",
    "print(f\"CPU ядер: {psutil.cpu_count()}\")\n",
    "print(f\"RAM: {psutil.virtual_memory().total / (1024**3):.1f} GB\")\n",
    "print(f\"Свободно RAM: {psutil.virtual_memory().available / (1024**3):.1f} GB\")\n",
    "\n",
    "# Проверяем GPU\n",
    "if torch.cuda.is_available():\n",
    "    print(f\"\\n🚀 GPU доступен: {torch.cuda.get_device_name(0)}\")\n",
    "    print(f\"CUDA версия: {torch.version.cuda}\")\n",
    "    print(f\"GPU память: {torch.cuda.get_device_properties(0).total_memory / (1024**3):.1f} GB\")\nelse:\n",
    "    print(\"\\n⚠️ GPU недоступен, используется CPU\")\n",
    "\n",
    "# Проверяем диск\n",
    "disk_usage = psutil.disk_usage('/')\n",
    "print(f\"\\n💾 Диск: {disk_usage.free / (1024**3):.1f} GB свободно из {disk_usage.total / (1024**3):.1f} GB\")"
   ]
  },
  {
   "cell_type": "code",
   "execution_count": null,
   "metadata": {
    "id": "optimize-colab"
   },
   "outputs": [],
   "source": [
    "# Оптимизация настроек для Colab\n",
    "import os\n",
    "\n",
    "# Устанавливаем переменные окружения для оптимизации\n",
    "os.environ['OMP_NUM_THREADS'] = str(min(psutil.cpu_count(), 8))\n",
    "os.environ['MKL_NUM_THREADS'] = str(min(psutil.cpu_count(), 8))\n",
    "os.environ['CUDA_VISIBLE_DEVICES'] = '0'\n",
    "\n",
    "# Настройки для ffmpeg\n",
    "os.environ['FFMPEG_THREADS'] = str(min(psutil.cpu_count(), 6))\n",
    "\n",
    "print(\"⚡ Настройки оптимизации применены:\")\n",
    "print(f\"  - CPU потоки: {os.environ['OMP_NUM_THREADS']}\")\n",
    "print(f\"  - FFmpeg потоки: {os.environ['FFMPEG_THREADS']}\")\n",
    "print(f\"  - GPU устройство: {os.environ['CUDA_VISIBLE_DEVICES']}\")"
   ]
  },
  {
   "cell_type": "code",
   "execution_count": null,
   "metadata": {
    "id": "test-imports"
   },
   "outputs": [],
   "source": [
    "# Проверяем импорты\n",
    "try:\n",
    "    import telegram\n",
    "    import yt_dlp\n",
    "    import ffmpeg\n",
    "    import whisper\n",
    "    from google.oauth2.credentials import Credentials\n",
    "    from googleapiclient.discovery import build\n",
    "    import moviepy\n",
    "    from PIL import Image\n",
    "    import torch\n",
    "    import concurrent.futures\n",
    "    print(\"✅ Все модули импортированы успешно\")\n",
    "    \n",
    "    # Тест GPU для Whisper\n",
    "    if torch.cuda.is_available():\n",
    "        print(\"🚀 GPU готов для ускорения Whisper\")\n",
    "    else:\n",
    "        print(\"⚠️ Whisper будет работать на CPU\")\n",
    "        \nexcept ImportError as e:\n",
    "    print(f\"❌ Ошибка импорта: {e}\")"
   ]
  },
  {
   "cell_type": "code",
   "execution_count": null,
   "metadata": {
    "id": "run-bot",
    "scrolled": true
   },
   "outputs": [],
   "source": [
    "# Запуск бота\n",
    "import asyncio\n",
    "import nest_asyncio\n",
    "\n",
    "# Разрешаем вложенные event loops для Colab\n",
    "nest_asyncio.apply()\n",
    "\n",
    "print(\"🤖 Запускаем Telegram бота...\")\n",
    "print(\"Для остановки нажмите кнопку 'Interrupt execution' или Ctrl+C\")\n",
    "print(\"=\"*50)\n",
    "\n",
    "# Запускаем бота\n",
    "!python run_bot.py"
   ]
  },
  {
   "cell_type": "markdown",
   "metadata": {
    "id": "usage-section"
   },
   "source": [
    "## 📱 Как использовать бота:\n",
    "\n",
    "1. **Запустите бота** - отправьте `/start`\n",
    "2. **Настройте параметры** (опционально):\n",
    "   - `/duration 30` - длительность клипов в секундах\n",
    "   - `/title Мой заголовок` - заголовок для видео\n",
    "   - `/subtitle Подзаголовок` - подзаголовок для видео\n",
    "   - `/cookies` - установить cookies для приватных видео\n",
    "3. **Отправьте видео**:\n",
    "   - Ссылку на YouTube видео\n",
    "   - Или загрузите видео файл\n",
    "4. **Получите результат** - ссылки на обработанные клипы в Google Drive\n",
    "\n",
    "## 🍪 Работа с Cookies для приватных видео:\n",
    "\n",
    "Если нужно скачать приватное или ограниченное видео:\n",
    "\n",
    "1. **Экспорт cookies из браузера**:\n",
    "   - Установите расширение \"Get cookies.txt LOCALLY\" для Chrome/Firefox\n",
    "   - Зайдите на YouTube и авторизуйтесь\n",
    "   - Нажмите на расширение и скопируйте содержимое cookies\n",
    "\n",
    "2. **Установка cookies в боте**:\n",
    "   - Отправьте команду `/cookies`\n",
    "   - Вставьте скопированное содержимое cookies файла\n",
    "   - Бот сохранит cookies и сможет скачивать приватные видео\n",
    "\n",
    "3. **Альтернативные способы получения cookies**:\n",
    "   - Через DevTools браузера (F12 → Application → Cookies)\n",
    "   - Экспорт из других расширений для cookies\n",
    "\n",
    "## 🔧 Возможные проблемы:\n",
    "\n",
    "- **Ошибка токена**: Проверьте правильность Telegram Bot Token\n",
    "- **Ошибка Google Drive**: Убедитесь, что OAuth токен действителен\n",
    "- **Ошибка ffmpeg**: Перезапустите ячейку с установкой системных зависимостей\n",
    "- **Timeout**: Для длинных видео может потребоваться больше времени\n",
    "- **Приватное видео**: Используйте команду `/cookies` для установки cookies"
   ]
  },
  {
   "cell_type": "markdown",
   "metadata": {
    "id": "monitoring-section"
   },
   "source": [
    "## 📊 Мониторинг и логи"
   ]
  },
  {
   "cell_type": "code",
   "execution_count": null,
   "metadata": {
    "id": "check-logs"
   },
   "outputs": [],
   "source": [
    "# Проверка логов (если есть)\n",
    "import os\n",
    "import glob\n",
    "\n",
    "# Ищем лог файлы\n",
    "log_files = glob.glob('*.log')\n",
    "if log_files:\n",
    "    print(\"📋 Найденные лог файлы:\")\n",
    "    for log_file in log_files:\n",
    "        print(f\"  - {log_file}\")\n",
    "        \n",
    "    # Показываем последние строки из последнего лога\n",
    "    latest_log = max(log_files, key=os.path.getctime)\n",
    "    print(f\"\\n📄 Последние 20 строк из {latest_log}:\")\n",
    "    !tail -20 {latest_log}\nelse:\n",
    "    print(\"📋 Лог файлы не найдены\")"
   ]
  },
  {
   "cell_type": "code",
   "execution_count": null,
   "metadata": {
    "id": "monitor-performance"
   },
   "outputs": [],
   "source": [
    "# Мониторинг производительности в реальном времени\n",
    "import psutil\n",
    "import torch\n",
    "import time\n",
    "from IPython.display import clear_output\n",
    "\n",
    "def show_system_stats():\n",
    "    \"\"\"Показывает текущую статистику системы\"\"\"\n",
    "    clear_output(wait=True)\n",
    "    \n",
    "    print(\"📊 МОНИТОРИНГ ПРОИЗВОДИТЕЛЬНОСТИ\")\n",
    "    print(\"=\" * 50)\n",
    "    \n",
    "    # CPU\n",
    "    cpu_percent = psutil.cpu_percent(interval=1)\n",
    "    print(f\"🖥️  CPU: {cpu_percent:.1f}%\")\n",
    "    \n",
    "    # RAM\n",
    "    memory = psutil.virtual_memory()\n",
    "    ram_used = (memory.total - memory.available) / (1024**3)\n",
    "    ram_total = memory.total / (1024**3)\n",
    "    ram_percent = memory.percent\n",
    "    print(f\"🧠 RAM: {ram_used:.1f}/{ram_total:.1f} GB ({ram_percent:.1f}%)\")\n",
    "    \n",
    "    # GPU\n",
    "    if torch.cuda.is_available():\n",
    "        gpu_memory_used = torch.cuda.memory_allocated(0) / (1024**3)\n",
    "        gpu_memory_total = torch.cuda.get_device_properties(0).total_memory / (1024**3)\n",
    "        gpu_percent = (gpu_memory_used / gpu_memory_total) * 100\n",
    "        print(f\"🚀 GPU: {gpu_memory_used:.1f}/{gpu_memory_total:.1f} GB ({gpu_percent:.1f}%)\")\n",
    "    else:\n",
    "        print(\"🚀 GPU: Недоступен\")\n",
    "    \n",
    "    # Диск\n",
    "    disk = psutil.disk_usage('/')\n",
    "    disk_used = (disk.total - disk.free) / (1024**3)\n",
    "    disk_total = disk.total / (1024**3)\n",
    "    disk_percent = (disk_used / disk_total) * 100\n",
    "    print(f\"💾 Диск: {disk_used:.1f}/{disk_total:.1f} GB ({disk_percent:.1f}%)\")\n",
    "    \n",
    "    # Процессы\n",
    "    python_processes = [p for p in psutil.process_iter(['pid', 'name', 'cpu_percent', 'memory_percent']) \n",
    "                       if 'python' in p.info['name'].lower()]\n",
    "    \n",
    "    if python_processes:\n",
    "        print(f\"\\n🐍 Python процессы: {len(python_processes)}\")\n",
    "        for proc in python_processes[:3]:  # Показываем топ 3\n",
    "            print(f\"   PID {proc.info['pid']}: CPU {proc.info['cpu_percent']:.1f}%, RAM {proc.info['memory_percent']:.1f}%\")\n",
    "    \n",
    "    print(f\"\\n⏰ Обновлено: {time.strftime('%H:%M:%S')}\")\n",
    "    print(\"\\n💡 Для остановки мониторинга нажмите 'Interrupt execution'\")\n",
    "\n",
    "# Запускаем мониторинг (остановите вручную)\n",
    "try:\n",
    "    while True:\n",
    "        show_system_stats()\n",
    "        time.sleep(5)  # Обновляем каждые 5 секунд\nexcept KeyboardInterrupt:\n",
    "    print(\"\\n✅ Мониторинг остановлен\")"
   ]
  },
  {
   "cell_type": "code",
   "execution_count": null,
   "metadata": {
    "id": "check-temp-files"
   },
   "outputs": [],
   "source": [
    "# Проверка временных файлов\n",
    "import os\n",
    "\n",
    "print(\"📁 Содержимое рабочей директории:\")\n",
    "for item in os.listdir('.'):\n",
    "    if os.path.isfile(item):\n",
    "        size = os.path.getsize(item)\n",
    "        print(f\"  📄 {item} ({size} bytes)\")\n",
    "    else:\n",
    "        print(f\"  📁 {item}/\")\n",
    "\n",
    "# Показываем временные папки\n",
    "temp_dirs = [d for d in os.listdir('.') if d.startswith('temp_')]\n",
    "if temp_dirs:\n",
    "    print(f\"\\n🗂️ Временные папки: {len(temp_dirs)}\")\n",
    "    for temp_dir in temp_dirs[:5]:  # Показываем только первые 5\n",
    "        files_count = len(os.listdir(temp_dir))\n",
    "        print(f\"  📁 {temp_dir}/ ({files_count} файлов)\")"
   ]
  },
  {
   "cell_type": "markdown",
   "metadata": {
    "id": "cleanup-section"
   },
   "source": [
    "## 🧹 Очистка временных файлов"
   ]
  },
  {
   "cell_type": "code",
   "execution_count": null,
   "metadata": {
    "id": "cleanup-temp"
   },
   "outputs": [],
   "source": [
    "# Очистка временных файлов\n",
    "import os\n",
    "import shutil\n",
    "import glob\n",
    "\n",
    "print(\"🧹 Очистка временных файлов...\")\n",
    "\n",
    "# Удаляем временные папки\n",
    "temp_dirs = glob.glob('temp_*')\n",
    "for temp_dir in temp_dirs:\n",
    "    if os.path.isdir(temp_dir):\n",
    "        shutil.rmtree(temp_dir)\n",
    "        print(f\"  🗑️ Удалена папка: {temp_dir}\")\n",
    "\n",
    "# Удаляем временные видео файлы\n",
    "temp_videos = glob.glob('temp_video_*.mp4') + glob.glob('youtube_video_*.mp4')\n",
    "for temp_video in temp_videos:\n",
    "    if os.path.isfile(temp_video):\n",
    "        os.remove(temp_video)\n",
    "        print(f\"  🗑️ Удален файл: {temp_video}\")\n",
    "\n",
    "print(\"✅ Очистка завершена!\")"
   ]
  }
 ],
 "metadata": {
  "colab": {
   "provenance": [],
   "collapsed_sections": [
    "setup-section",
    "config-section",
    "monitoring-section",
    "cleanup-section"
   ]
  },
  "kernelspec": {
   "display_name": "Python 3",
   "name": "python3"
  },
  "language_info": {
   "name": "python"
  }
 },
 "nbformat": 4,
 "nbformat_minor": 0
}