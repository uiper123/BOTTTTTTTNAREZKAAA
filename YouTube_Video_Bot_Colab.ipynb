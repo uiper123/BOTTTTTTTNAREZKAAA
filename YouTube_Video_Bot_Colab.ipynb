{
  "nbformat": 4,
  "nbformat_minor": 0,
  "metadata": {
    "colab": {
      "provenance": [],
      "gpuType": "T4",
      "machine_shape": "hm"
    },
    "kernelspec": {
      "name": "python3",
      "display_name": "Python 3"
    },
    "language_info": {
      "name": "python"
    },
    "accelerator": "GPU"
  },
  "cells": [
    {
      "cell_type": "markdown",
      "metadata": {
        "id": "header"
      },
      "source": [
        "# 🎬 YouTube Video Bot для Google Colab\n",
        "\n",
        "Этот notebook позволяет запустить Telegram бота для нарезки YouTube видео на шотсы прямо в Google Colab.\n",
        "\n",
        "## Возможности:\n",
        "- 📹 Скачивание видео с YouTube в максимальном качестве (раздельно видео + аудио)\n",
        "- 🍪 Поддержка cookies для приватных и возрастных видео\n",
        "- ✂️ Автоматическая нарезка на шотсы любой длительности\n",
        "- 🎤 Генерация субтитров с помощью Whisper AI\n",
        "- 📱 Красивые заголовки и анимация текста\n",
        "- ☁️ Автоматическая загрузка на Google Drive\n",
        "- 🤖 Telegram бот интерфейс\n",
        "- ⏰ Обработка длинных видео (до нескольких часов)\n",
        "\n",
        "## Требования:\n",
        "1. Токен Telegram бота\n",
        "2. Google OAuth токен для Drive API\n",
        "3. Cookies файл YouTube (опционально)\n",
        "4. Стабильное интернет соединение"
      ]
    },
    {
      "cell_type": "markdown",
      "metadata": {
        "id": "setup"
      },
      "source": [
        "## 🔧 Шаг 1: Установка зависимостей"
      ]
    },
    {
      "cell_type": "code",
      "execution_count": null,
      "metadata": {
        "id": "install_deps"
      },
      "outputs": [],
      "source": [
        "# Обновляем pip и устанавливаем системные зависимости\n",
        "!apt update -qq\n",
        "!apt install -y ffmpeg fonts-liberation\n",
        "\n",
        "# Устанавливаем Python пакеты\n",
        "!pip install -q python-telegram-bot==20.7\n",
        "!pip install -q yt-dlp\n",
        "!pip install -q openai-whisper\n",
        "!pip install -q google-api-python-client\n",
        "!pip install -q google-auth-httplib2\n",
        "!pip install -q google-auth-oauthlib\n",
        "!pip install -q python-dotenv\n",
        "!pip install -q Pillow\n",
        "!pip install -q moviepy\n",
        "\n",
        "print(\"✅ Все зависимости установлены!\")"
      ]
    },
    {
      "cell_type": "markdown",
      "metadata": {
        "id": "clone"
      },
      "source": [
        "## 📥 Шаг 2: Клонирование репозитория"
      ]
    },
    {
      "cell_type": "code",
      "execution_count": null,
      "metadata": {
        "id": "clone_repo"
      },
      "outputs": [],
      "source": [
        "import os\n",
        "import shutil\n",
        "\n",
        "# Удаляем старую папку если есть\n",
        "if os.path.exists('/content/youtube-video-bot'):\n",
        "    shutil.rmtree('/content/youtube-video-bot')\n",
        "\n",
        "# Клонируем репозиторий\n",
        "!git clone https://github.com/uiper123/BOTTTTTTTNAREZKAAA.git youtube-video-bot\n",
        "\n",
        "# Переходим в папку проекта\n",
        "os.chdir('/content/youtube-video-bot')\n",
        "\n",
        "# Проверяем структуру проекта\n",
        "!ls -la\n",
        "\n",
        "print(\"✅ Репозиторий клонирован!\")"
      ]
    },
    {
      "cell_type": "markdown",
      "metadata": {
        "id": "config"
      },
      "source": [
        "## ⚙️ Шаг 3: Настройка токенов\n",
        "\n",
        "### Получение токенов:\n",
        "\n",
        "1. **Telegram Bot Token:**\n",
        "   - Напишите @BotFather в Telegram\n",
        "   - Создайте нового бота командой `/newbot`\n",
        "   - Скопируйте токен\n",
        "\n",
        "2. **Google Drive API:**\n",
        "   - Перейдите в [Google Cloud Console](https://console.cloud.google.com/)\n",
        "   - Создайте проект и включите Drive API\n",
        "   - Создайте OAuth 2.0 credentials\n",
        "   - Скачайте JSON файл"
      ]
    },
    {
      "cell_type": "code",
      "execution_count": null,
      "metadata": {
        "id": "setup_config"
      },
      "outputs": [],
      "source": [
        "# Вставьте ваши токены здесь\n",
        "TELEGRAM_BOT_TOKEN = \"YOUR_TELEGRAM_BOT_TOKEN_HERE\"  # Замените на ваш токен\n",
        "GOOGLE_OAUTH_JSON = \"\"\"{\n",
        "  \"installed\": {\n",
        "    \"client_id\": \"YOUR_CLIENT_ID\",\n",
        "    \"project_id\": \"YOUR_PROJECT_ID\",\n",
        "    \"auth_uri\": \"https://accounts.google.com/o/oauth2/auth\",\n",
        "    \"token_uri\": \"https://oauth2.googleapis.com/token\",\n",
        "    \"auth_provider_x509_cert_url\": \"https://www.googleapis.com/oauth2/v1/certs\",\n",
        "    \"client_secret\": \"YOUR_CLIENT_SECRET\",\n",
        "    \"redirect_uris\": [\"http://localhost\"]\n",
        "  }\n",
        "}\"\"\"  # Замените на ваш Google OAuth JSON\n",
        "\n",
        "# Проверяем токены\n",
        "if TELEGRAM_BOT_TOKEN == \"YOUR_TELEGRAM_BOT_TOKEN_HERE\":\n",
        "    print(\"❌ Пожалуйста, установите TELEGRAM_BOT_TOKEN\")\n",
        "else:\n",
        "    print(\"✅ Telegram токен установлен\")\n",
        "\n",
        "if \"YOUR_CLIENT_ID\" in GOOGLE_OAUTH_JSON:\n",
        "    print(\"❌ Пожалуйста, установите Google OAuth данные\")\n",
        "else:\n",
        "    print(\"✅ Google OAuth данные установлены\")"
      ]
    },
    {
      "cell_type": "markdown",
      "metadata": {
        "id": "oauth"
      },
      "source": [
        "## 🔐 Шаг 4: Настройка Google OAuth"
      ]
    },
    {
      "cell_type": "code",
      "execution_count": null,
      "metadata": {
        "id": "setup_oauth"
      },
      "outputs": [],
      "source": [
        "import base64\n",
        "import pickle\n",
        "from google.auth.transport.requests import Request\n",
        "from google.oauth2.credentials import Credentials\n",
        "from google_auth_oauthlib.flow import Flow\n",
        "\n",
        "# Создаем файл credentials.json\n",
        "with open('credentials.json', 'w') as f:\n",
        "    f.write(GOOGLE_OAUTH_JSON)\n",
        "\n",
        "# Настраиваем OAuth flow\n",
        "SCOPES = ['https://www.googleapis.com/auth/drive.file']\n",
        "\n",
        "flow = Flow.from_client_secrets_file(\n",
        "    'credentials.json',\n",
        "    scopes=SCOPES,\n",
        "    redirect_uri='http://localhost'\n",
        ")\n",
        "\n",
        "# Получаем URL для авторизации\n",
        "auth_url, _ = flow.authorization_url(prompt='consent')\n",
        "\n",
        "print(\"🔗 Перейдите по этой ссылке для авторизации:\")\n",
        "print(auth_url)\n",
        "print(\"\\n📋 После авторизации скопируйте код из URL и вставьте ниже:\")\n",
        "\n",
        "# Ждем ввода кода авторизации\n",
        "auth_code = input(\"Введите код авторизации: \")\n",
        "\n",
        "# Получаем токен\n",
        "flow.fetch_token(code=auth_code)\n",
        "credentials = flow.credentials\n",
        "\n",
        "# Сохраняем токен в base64\n",
        "token_data = pickle.dumps(credentials)\n",
        "token_base64 = base64.b64encode(token_data).decode('utf-8')\n",
        "\n",
        "print(\"✅ Google OAuth настроен успешно!\")\n",
        "print(f\"🔑 Токен сохранен (длина: {len(token_base64)} символов)\")"
      ]
    },
    {
      "cell_type": "markdown",
      "metadata": {
        "id": "cookies"
      },
      "source": [
        "## 🍪 Шаг 5: Настройка cookies для YouTube (опционально)\n",
        "\n",
        "Cookies помогают:\n",
        "- 🔞 Скачивать возрастные видео\n",
        "- 🌍 Обходить региональные ограничения\n",
        "- 🔒 Получать доступ к приватным видео\n",
        "- 🚫 Избегать блокировок YouTube\n",
        "- ⚡ Повышать стабильность скачивания\n",
        "\n",
        "### Как получить cookies:\n",
        "1. Откройте YouTube в браузере и войдите в аккаунт\n",
        "2. Установите расширение **\"Get cookies.txt LOCALLY\"** или **\"cookies.txt\"**\n",
        "3. Перейдите на youtube.com\n",
        "4. Нажмите на иконку расширения\n",
        "5. Экспортируйте cookies в формате **Netscape**\n",
        "6. Скопируйте содержимое файла"
      ]
    },
    {
      "cell_type": "code",
      "execution_count": null,
      "metadata": {
        "id": "setup_cookies"
      },
      "outputs": [],
      "source": [
        "# Настройка cookies для YouTube\n",
        "import os\n",
        "\n",
        "print(\"🍪 Настройка cookies для YouTube\")\n",
        "print(\"Если у вас нет cookies, просто нажмите Enter для пропуска\")\n",
        "print(\"-\" * 50)\n",
        "\n",
        "use_cookies = input(\"Хотите использовать cookies? (y/n): \").lower().strip()\n",
        "\n",
        "if use_cookies in ['y', 'yes', 'да', 'д']:\n",
        "    print(\"\\n📋 Вставьте содержимое cookies.txt файла:\")\n",
        "    print(\"(Для завершения ввода введите 'END' на отдельной строке)\")\n",
        "    print(\"Пример формата:\")\n",
        "    print(\"# Netscape HTTP Cookie File\")\n",
        "    print(\".youtube.com\\tTRUE\\t/\\tFALSE\\t1234567890\\tname\\tvalue\")\n",
        "    print(\"-\" * 30)\n",
        "    \n",
        "    cookies_lines = []\n",
        "    while True:\n",
        "        line = input()\n",
        "        if line.strip().upper() == \"END\":\n",
        "            break\n",
        "        cookies_lines.append(line)\n",
        "    \n",
        "    if cookies_lines:\n",
        "        # Сохраняем cookies в файл\n",
        "        with open('cookies.txt', 'w', encoding='utf-8') as f:\n",
        "            f.write('\\n'.join(cookies_lines))\n",
        "        \n",
        "        print(f\"✅ Cookies сохранены! ({len(cookies_lines)} строк)\")\n",
        "        \n",
        "        # Проверяем формат cookies\n",
        "        valid_cookies = 0\n",
        "        youtube_cookies = 0\n",
        "        \n",
        "        for line in cookies_lines:\n",
        "            if line.startswith('#') or line.strip() == '':\n",
        "                continue\n",
        "            parts = line.split('\\t')\n",
        "            if len(parts) >= 6:\n",
        "                valid_cookies += 1\n",
        "                if 'youtube.com' in line or 'google.com' in line:\n",
        "                    youtube_cookies += 1\n",
        "        \n",
        "        print(f\"📊 Валидных cookies: {valid_cookies}\")\n",
        "        print(f\"🎥 YouTube cookies: {youtube_cookies}\")\n",
        "        \n",
        "        if youtube_cookies > 0:\n",
        "            print(\"✅ YouTube cookies найдены - можно скачивать приватные видео!\")\n",
        "        else:\n",
        "            print(\"⚠️ YouTube cookies не найдены - только публичные видео\")\n",
        "    else:\n",
        "        print(\"❌ Cookies не введены\")\n",
        "        # Создаем пустой файл\n",
        "        with open('cookies.txt', 'w') as f:\n",
        "            f.write('# No cookies\\n')\n",
        "else:\n",
        "    print(\"⏭️ Пропускаем настройку cookies\")\n",
        "    # Создаем пустой файл cookies для совместимости\n",
        "    with open('cookies.txt', 'w') as f:\n",
        "        f.write('# No cookies\\n')\n",
        "\n",
        "print(\"\\n📁 Проверяем файл cookies:\")\n",
        "if os.path.exists('cookies.txt'):\n",
        "    file_size = os.path.getsize('cookies.txt')\n",
        "    print(f\"✅ cookies.txt создан ({file_size} bytes)\")\n",
        "    \n",
        "    # Показываем первые несколько строк (без секретных данных)\n",
        "    with open('cookies.txt', 'r') as f:\n",
        "        lines = f.readlines()[:3]\n",
        "        for i, line in enumerate(lines, 1):\n",
        "            if line.startswith('#'):\n",
        "                print(f\"  {i}: {line.strip()}\")\n",
        "            else:\n",
        "                print(f\"  {i}: [cookie data]\")\n",
        "else:\n",
        "    print(\"❌ cookies.txt не найден\")"
      ]
    },
    {
      "cell_type": "markdown",
      "metadata": {
        "id": "env"
      },
      "source": [
        "## 📝 Шаг 6: Создание .env файла"
      ]
    },
    {
      "cell_type": "code",
      "execution_count": null,
      "metadata": {
        "id": "create_env"
      },
      "outputs": [],
      "source": [
        "# Создаем .env файл с настройками\n",
        "env_content = f\"\"\"# Telegram Bot Configuration\n",
        "TELEGRAM_BOT_TOKEN={TELEGRAM_BOT_TOKEN}\n",
        "\n",
        "# Google Drive Configuration\n",
        "GOOGLE_OAUTH_TOKEN_BASE64={token_base64}\n",
        "\n",
        "# Video Processing Settings\n",
        "DEFAULT_CLIP_DURATION=30\n",
        "DEFAULT_TITLE=ФРАГМЕНТ\n",
        "DEFAULT_SUBTITLE=Часть\n",
        "WHISPER_MODEL=base\n",
        "MAX_CHUNK_DURATION=300\n",
        "\n",
        "# YouTube Cookies (автоматически определяется)\n",
        "USE_COOKIES={'true' if os.path.exists('cookies.txt') and os.path.getsize('cookies.txt') > 20 else 'false'}\n",
        "\"\"\"\n",
        "\n",
        "with open('.env', 'w', encoding='utf-8') as f:\n",
        "    f.write(env_content)\n",
        "\n",
        "print(\"✅ Файл .env создан успешно!\")\n",
        "print(\"📁 Содержимое:\")\n",
        "!head -10 .env"
      ]
    },
    {
      "cell_type": "markdown",
      "metadata": {
        "id": "font"
      },
      "source": [
        "## 🔤 Шаг 7: Загрузка шрифта"
      ]
    },
    {
      "cell_type": "code",
      "execution_count": null,
      "metadata": {
        "id": "download_font"
      },
      "outputs": [],
      "source": [
        "# Скачиваем шрифт для заголовков\n",
        "import urllib.request\n",
        "\n",
        "try:\n",
        "    # Пробуем скачать Roboto Bold (хорошая альтернатива)\n",
        "    urllib.request.urlretrieve(\n",
        "        'https://github.com/google/fonts/raw/main/apache/roboto/static/Roboto-Bold.ttf',\n",
        "        'Obelix Pro.ttf'\n",
        "    )\n",
        "    print(\"✅ Шрифт Roboto Bold загружен успешно!\")\n",
        "except:\n",
        "    try:\n",
        "        # Fallback на системный шрифт\n",
        "        !cp /usr/share/fonts/truetype/liberation/LiberationSans-Bold.ttf \"Obelix Pro.ttf\"\n",
        "        print(\"✅ Использован системный шрифт Liberation Sans Bold!\")\n",
        "    except:\n",
        "        # Последний fallback\n",
        "        !cp /usr/share/fonts/truetype/dejavu/DejaVuSans-Bold.ttf \"Obelix Pro.ttf\"\n",
        "        print(\"✅ Использован системный шрифт DejaVu Sans Bold!\")\n",
        "\n",
        "# Проверяем наличие шрифта\n",
        "if os.path.exists('Obelix Pro.ttf'):\n",
        "    file_size = os.path.getsize('Obelix Pro.ttf')\n",
        "    print(f\"📁 Шрифт готов: Obelix Pro.ttf ({file_size} bytes)\")\n",
        "else:\n",
        "    print(\"❌ Ошибка загрузки шрифта\")"
      ]
    },
    {
      "cell_type": "markdown",
      "metadata": {
        "id": "test"
      },
      "source": [
        "## 🧪 Шаг 8: Тестирование компонентов"
      ]
    },
    {
      "cell_type": "code",
      "execution_count": null,
      "metadata": {
        "id": "test_components"
      },
      "outputs": [],
      "source": [
        "# Тестируем импорты и основные компоненты\n",
        "try:\n",
        "    from youtube_downloader import YouTubeDownloader\n",
        "    from video_editor import VideoEditor\n",
        "    from subtitle_generator import SubtitleGenerator\n",
        "    from google_drive_uploader import GoogleDriveUploader\n",
        "    from video_processor import VideoProcessor\n",
        "    \n",
        "    print(\"✅ Все модули импортированы успешно!\")\n",
        "    \n",
        "    # Тестируем создание объектов\n",
        "    downloader = YouTubeDownloader()\n",
        "    editor = VideoEditor()\n",
        "    subtitle_gen = SubtitleGenerator()\n",
        "    uploader = GoogleDriveUploader()\n",
        "    processor = VideoProcessor()\n",
        "    \n",
        "    print(\"✅ Все компоненты инициализированы!\")\n",
        "    \n",
        "    # Проверяем FFmpeg\n",
        "    print(\"🎬 Версия FFmpeg:\")\n",
        "    !ffmpeg -version | head -1\n",
        "    \n",
        "    # Проверяем Whisper\n",
        "    import whisper\n",
        "    print(f\"🎤 Whisper доступен, модели: {whisper.available_models()}\")\n",
        "    \n",
        "    # Проверяем cookies\n",
        "    if os.path.exists('cookies.txt'):\n",
        "        with open('cookies.txt', 'r') as f:\n",
        "            content = f.read()\n",
        "            if 'youtube.com' in content or 'google.com' in content:\n",
        "                print(\"🍪 YouTube cookies активны\")\n",
        "            else:\n",
        "                print(\"🍪 Cookies файл создан (без YouTube cookies)\")\n",
        "    \n",
        "    print(\"\\n🎉 Все компоненты готовы к работе!\")\n",
        "    \n",
        "except Exception as e:\n",
        "    print(f\"❌ Ошибка тестирования: {e}\")\n",
        "    import traceback\n",
        "    traceback.print_exc()"
      ]
    },
    {
      "cell_type": "markdown",
      "metadata": {
        "id": "run"
      },
      "source": [
        "## 🚀 Шаг 9: Запуск бота\n",
        "\n",
        "**Внимание:** После запуска бот будет работать до тех пор, пока вы не остановите ячейку.\n",
        "\n",
        "### Команды бота:\n",
        "- `/start` - Начать работу\n",
        "- `/duration 60` - Установить длительность шотсов (секунды)\n",
        "- `/title ЭПИЗОД` - Установить заголовок\n",
        "- `/subtitle Серия` - Установить подзаголовок\n",
        "- `/settings` - Показать текущие настройки\n",
        "\n",
        "### Для остановки:\n",
        "- Нажмите кнопку **\"Stop\"** или используйте **Ctrl+C**"
      ]
    },
    {
      "cell_type": "code",
      "execution_count": null,
      "metadata": {
        "id": "run_bot"
      },
      "outputs": [],
      "source": [
        "# Запускаем бота\n",
        "print(\"🤖 Запуск Telegram бота...\")\n",
        "print(\"📱 Найдите вашего бота в Telegram и отправьте /start\")\n",
        "print(\"🔗 Отправьте ссылку на YouTube видео для обработки\")\n",
        "print(\"⏹️ Для остановки нажмите кнопку 'Stop' или Ctrl+C\")\n",
        "print(\"🍪 Cookies активны - можно скачивать приватные видео\" if os.path.exists('cookies.txt') and os.path.getsize('cookies.txt') > 20 else \"🍪 Cookies не настроены - только публичные видео\")\n",
        "print(\"-\" * 50)\n",
        "\n",
        "# Импортируем и запускаем бота\n",
        "from bot import TelegramBot\n",
        "\n",
        "try:\n",
        "    bot = TelegramBot()\n",
        "    bot.run()\n",
        "except KeyboardInterrupt:\n",
        "    print(\"\\n🛑 Бот остановлен пользователем\")\n",
        "except Exception as e:\n",
        "    print(f\"❌ Ошибка запуска бота: {e}\")\n",
        "    import traceback\n",
        "    traceback.print_exc()"
      ]
    },
    {
      "cell_type": "markdown",
      "metadata": {
        "id": "monitor"
      },
      "source": [
        "## 📊 Шаг 10: Мониторинг ресурсов (опционально)"
      ]
    },
    {
      "cell_type": "code",
      "execution_count": null,
      "metadata": {
        "id": "monitor_resources"
      },
      "outputs": [],
      "source": [
        "# Мониторинг использования ресурсов\n",
        "import psutil\n",
        "import time\n",
        "\n",
        "def show_resources():\n",
        "    # CPU\n",
        "    cpu_percent = psutil.cpu_percent(interval=1)\n",
        "    \n",
        "    # Memory\n",
        "    memory = psutil.virtual_memory()\n",
        "    memory_percent = memory.percent\n",
        "    memory_used = memory.used / (1024**3)  # GB\n",
        "    memory_total = memory.total / (1024**3)  # GB\n",
        "    \n",
        "    # Disk\n",
        "    disk = psutil.disk_usage('/')\n",
        "    disk_percent = disk.percent\n",
        "    disk_used = disk.used / (1024**3)  # GB\n",
        "    disk_total = disk.total / (1024**3)  # GB\n",
        "    \n",
        "    print(f\"🖥️  CPU: {cpu_percent:.1f}%\")\n",
        "    print(f\"🧠 RAM: {memory_percent:.1f}% ({memory_used:.1f}/{memory_total:.1f} GB)\")\n",
        "    print(f\"💾 Disk: {disk_percent:.1f}% ({disk_used:.1f}/{disk_total:.1f} GB)\")\n",
        "    \n",
        "    # Проверяем файлы в temp и output\n",
        "    if os.path.exists('temp'):\n",
        "        temp_files = len([f for f in os.listdir('temp') if os.path.isfile(os.path.join('temp', f))])\n",
        "        temp_size = sum(os.path.getsize(os.path.join('temp', f)) for f in os.listdir('temp') if os.path.isfile(os.path.join('temp', f))) / (1024**2)\n",
        "        print(f\"📁 Temp files: {temp_files} ({temp_size:.1f} MB)\")\n",
        "    \n",
        "    if os.path.exists('output'):\n",
        "        output_files = len([f for f in os.listdir('output') if os.path.isfile(os.path.join('output', f))])\n",
        "        print(f\"📤 Output files: {output_files}\")\n",
        "\n",
        "# Показываем текущее состояние\n",
        "show_resources()"
      ]
    },
    {
      "cell_type": "markdown",
      "metadata": {
        "id": "cleanup"
      },
      "source": [
        "## 🧹 Шаг 11: Очистка временных файлов"
      ]
    },
    {
      "cell_type": "code",
      "execution_count": null,
      "metadata": {
        "id": "cleanup_files"
      },
      "outputs": [],
      "source": [
        "# Очистка временных файлов для освобождения места\n",
        "import shutil\n",
        "\n",
        "def cleanup_temp_files():\n",
        "    cleaned_size = 0\n",
        "    \n",
        "    # Очищаем temp папку\n",
        "    if os.path.exists('temp'):\n",
        "        for file in os.listdir('temp'):\n",
        "            file_path = os.path.join('temp', file)\n",
        "            if os.path.isfile(file_path):\n",
        "                size = os.path.getsize(file_path)\n",
        "                os.remove(file_path)\n",
        "                cleaned_size += size\n",
        "        print(f\"🗑️ Очищена папка temp\")\n",
        "    \n",
        "    # Очищаем кэш Whisper\n",
        "    whisper_cache = os.path.expanduser('~/.cache/whisper')\n",
        "    if os.path.exists(whisper_cache):\n",
        "        cache_size = sum(os.path.getsize(os.path.join(whisper_cache, f)) \n",
        "                        for f in os.listdir(whisper_cache) if os.path.isfile(os.path.join(whisper_cache, f)))\n",
        "        shutil.rmtree(whisper_cache)\n",
        "        cleaned_size += cache_size\n",
        "        print(f\"🗑️ Очищен кэш Whisper\")\n",
        "    \n",
        "    # Очищаем кэш yt-dlp\n",
        "    ytdlp_cache = os.path.expanduser('~/.cache/yt-dlp')\n",
        "    if os.path.exists(ytdlp_cache):\n",
        "        shutil.rmtree(ytdlp_cache)\n",
        "        print(f\"🗑️ Очищен кэш yt-dlp\")\n",
        "    \n",
        "    print(f\"✅ Освобождено: {cleaned_size / (1024**2):.1f} MB\")\n",
        "\n",
        "# Запускаем очистку\n",
        "cleanup_temp_files()\n",
        "\n",
        "# Показываем обновленное состояние ресурсов\n",
        "print(\"\\n📊 Состояние после очистки:\")\n",
        "show_resources()"
      ]
    },
    {
      "cell_type": "markdown",
      "metadata": {
        "id": "tips"
      },
      "source": [
        "## 💡 Полезные советы\n",
        "\n",
        "### 🍪 Использование cookies:\n",
        "- **Возрастные видео**: Cookies позволяют скачивать 18+ контент\n",
        "- **Приватные видео**: Доступ к unlisted и private видео\n",
        "- **Региональные ограничения**: Обход geo-блокировок\n",
        "- **Стабильность**: Меньше ошибок при скачивании\n",
        "\n",
        "### ⚡ Для оптимальной работы:\n",
        "1. **Используйте GPU runtime** для ускорения Whisper\n",
        "2. **Периодически очищайте temp файлы** для экономии места\n",
        "3. **Мониторьте использование RAM** при обработке длинных видео\n",
        "4. **Обновляйте cookies** если они перестали работать\n",
        "\n",
        "### 🎬 Обработка видео:\n",
        "- **Короткие видео** (до 5 мин): Обрабатываются целиком\n",
        "- **Длинные видео** (5+ мин): Автоматически разбиваются на чанки\n",
        "- **Часовые видео**: Могут занять 1-2 часа обработки\n",
        "- **Качество**: Раздельное скачивание видео+аудио = максимальное качество\n",
        "\n",
        "### 🚨 Ограничения Google Colab:\n",
        "- **Время сессии**: ~12 часов максимум\n",
        "- **Место на диске**: ~100 GB\n",
        "- **RAM**: 12-25 GB (зависит от runtime)\n",
        "- **Сеть**: Может быть ограничена при интенсивном использовании\n",
        "\n",
        "### 🔧 Решение проблем:\n",
        "- **\"Out of memory\"**: Уменьшите длительность чанков или используйте меньшую Whisper модель\n",
        "- **\"Disk space full\"**: Регулярно очищайте временные файлы\n",
        "- **\"Session timeout\"**: Сохраните прогресс и перезапустите notebook\n",
        "- **\"Cookies expired\"**: Обновите cookies файл\n",
        "- **\"YouTube blocking\"**: Используйте свежие cookies или VPN\n",
        "\n",
        "### 📱 Команды бота:\n",
        "```\n",
        "/start - Начать работу\n",
        "/duration 60 - Установить длительность шотсов (секунды)\n",
        "/title ЭПИЗОД - Установить заголовок\n",
        "/subtitle Серия - Установить подзаголовок\n",
        "/settings - Показать текущие настройки\n",
        "/help - Помощь\n",
        "```\n",
        "\n",
        "### 🎯 Примеры использования:\n",
        "- **Подкасты**: `/duration 120` для 2-минутных отрывков\n",
        "- **Лекции**: `/title УРОК` `/subtitle Часть` для образовательного контента\n",
        "- **Интервью**: `/duration 45` для коротких цитат\n",
        "- **Музыка**: Используйте cookies для доступа к возрастному контенту"
      ]
    }
  ]
}