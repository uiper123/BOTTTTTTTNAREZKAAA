{
  "nbformat": 4,
  "nbformat_minor": 0,
  "metadata": {
    "colab": {
      "provenance": [],
      "gpuType": "T4"
    },
    "kernelspec": {
      "name": "python3",
      "display_name": "Python 3"
    },
    "language_info": {
      "name": "python"
    },
    "accelerator": "GPU"
  },
  "cells": [
    {
      "cell_type": "markdown",
      "metadata": {
        "id": "header"
      },
      "source": [
        "# 🤖 Telegram Bot для обработки видео\n",
        "\n",
        "Этот блокнот запускает Telegram бота с поддержкой GPU для обработки видео.\n",
        "\n",
        "**Важно:** Убедитесь, что включен GPU в настройках Colab:\n",
        "- Меню → Среда выполнения → Сменить среду выполнения → Аппаратный ускоритель → GPU"
      ]
    },
    {
      "cell_type": "markdown",
      "metadata": {
        "id": "setup-header"
      },
      "source": [
        "## 📦 Установка зависимостей"
      ]
    },
    {
      "cell_type": "code",
      "execution_count": null,
      "metadata": {
        "id": "install-system-deps"
      },
      "outputs": [],
      "source": [
        "# Установка системных зависимостей\n",
        "!apt-get update -qq\n",
        "!apt-get install -y ffmpeg imagemagick\n",
        "\n",
        "# Проверка GPU\n",
        "!nvidia-smi"
      ]
    },
    {
      "cell_type": "code",
      "execution_count": null,
      "metadata": {
        "id": "install-python-deps"
      },
      "outputs": [],
      "source": [
        "# Установка Python зависимостей\n",
        "!pip install --upgrade pip\n",
        "!pip install python-telegram-bot==20.7\n",
        "!pip install yt-dlp\n",
        "!pip install moviepy\n",
        "!pip install ffmpeg-python\n",
        "!pip install google-api-python-client\n",
        "!pip install google-auth-httplib2\n",
        "!pip install google-auth-oauthlib\n",
        "!pip install python-dotenv\n",
        "!pip install Pillow\n",
        "!pip install requests\n",
        "!pip install asyncio\n",
        "!pip install nest-asyncio\n",
        "\n",
        "# Для работы с асинхронностью в Colab\n",
        "import nest_asyncio\n",
        "nest_asyncio.apply()\n",
        "\n",
        "print(\"✅ Все зависимости установлены!\")"
      ]
    },
    {
      "cell_type": "markdown",
      "metadata": {
        "id": "whisper-fix-header"
      },
      "source": [
        "## 🎤 Исправление Whisper для Colab"
      ]
    },
    {
      "cell_type": "code",
      "execution_count": null,
      "metadata": {
        "id": "fix-whisper"
      },
      "outputs": [],
      "source": [
        "# ИСПРАВЛЕНИЕ ПРОБЛЕМЫ С WHISPER В COLAB\n",
        "print(\"🔧 Исправляем проблемы с Whisper в Colab...\")\n",
        "\n",
        "# Удаляем конфликтующие версии\n",
        "print(\"1️⃣ Удаляем старые версии Whisper...\")\n",
        "!pip uninstall -y whisper openai-whisper faster-whisper whisper-jax -q\n",
        "\n",
        "# Устанавливаем правильную версию OpenAI Whisper\n",
        "print(\"2️⃣ Устанавливаем OpenAI Whisper...\")\n",
        "!pip install openai-whisper --upgrade --force-reinstall -q\n",
        "\n",
        "# Проверяем установку\n",
        "print(\"3️⃣ Проверяем установку...\")\n",
        "try:\n",
        "    import whisper\n",
        "    if hasattr(whisper, 'load_model'):\n",
        "        print(\"✅ OpenAI Whisper установлен правильно!\")\n",
        "        \n",
        "        # Предзагружаем модель для ускорения\n",
        "        print(\"4️⃣ Предзагружаем модель 'base'...\")\n",
        "        model = whisper.load_model(\"base\")\n",
        "        print(\"✅ Модель 'base' загружена успешно!\")\n",
        "        print(\"🎉 Whisper готов к работе!\")\n",
        "        \n",
        "    else:\n",
        "        print(\"❌ Whisper установлен, но load_model недоступен\")\n",
        "        print(\"🔄 Пробуем альтернативный способ...\")\n",
        "        \n",
        "        # Устанавливаем faster-whisper как альтернативу\n",
        "        !pip install faster-whisper --upgrade -q\n",
        "        \n",
        "        from faster_whisper import WhisperModel\n",
        "        model = WhisperModel(\"base\")\n",
        "        print(\"✅ faster-whisper установлен и готов к работе!\")\n",
        "        \n",
        "except ImportError as e:\n",
        "    print(f\"❌ Не удалось импортировать whisper: {e}\")\n",
        "    print(\"🔄 Устанавливаем faster-whisper как альтернативу...\")\n",
        "    \n",
        "    !pip install faster-whisper --upgrade -q\n",
        "    \n",
        "    try:\n",
        "        from faster_whisper import WhisperModel\n",
        "        model = WhisperModel(\"base\")\n",
        "        print(\"✅ faster-whisper установлен и готов к работе!\")\n",
        "    except Exception as e2:\n",
        "        print(f\"❌ Ошибка с faster-whisper: {e2}\")\n",
        "        print(\"⚠️ Субтитры могут не работать\")\n",
        "\n",
        "print(\"\\n🎯 Whisper настроен для работы в Colab!\")"
      ]
    },
    {
      "cell_type": "markdown",
      "metadata": {
        "id": "clone-header"
      },
      "source": [
        "## 📁 Клонирование репозитория"
      ]
    },
    {
      "cell_type": "code",
      "execution_count": null,
      "metadata": {
        "id": "clone-repo"
      },
      "outputs": [],
      "source": [
        "import os\n",
        "import shutil\n",
        "\n",
        "# Удаляем папку если существует\n",
        "if os.path.exists('/content/telegram-bot'):\n",
        "    shutil.rmtree('/content/telegram-bot')\n",
        "\n",
        "# Клонируем репозиторий (замените на ваш GitHub URL)\n",
        "!git clone https://github.com/YOUR_USERNAME/YOUR_REPO_NAME.git /content/telegram-bot\n",
        "\n",
        "# Переходим в папку проекта\n",
        "os.chdir('/content/telegram-bot')\n",
        "\n",
        "print(\"📁 Репозиторий клонирован в:\", os.getcwd())\n",
        "print(\"📋 Файлы в проекте:\")\n",
        "!ls -la"
      ]
    },
    {
      "cell_type": "markdown",
      "metadata": {
        "id": "config-header"
      },
      "source": [
        "## ⚙️ Настройка переменных окружения"
      ]
    },
    {
      "cell_type": "code",
      "execution_count": null,
      "metadata": {
        "id": "setup-env"
      },
      "outputs": [],
      "source": [
        "# Настройка переменных окружения\n",
        "import os\n",
        "\n",
        "# Токены и ключи\n",
        "os.environ['TELEGRAM_BOT_TOKEN'] = '7850144731:AAHeHudyAVljC2J_CR8NLZznqnDHu8ZgLUw'\n",
        "os.environ['GOOGLE_OAUTH_TOKEN_BASE64'] = 'gASV8QMAAAAAAACMGWdvb2dsZS5vYXV0aDIuY3JlZGVudGlhbHOUjAtDcmVkZW50aWFsc5STlCmBlH2UKIwFdG9rZW6UjP15YTI5LkEwQVMzSDZOeWlkcER0d3NEOExUbW9UTVpfdlFjWkh4SExFMEt1aGVNeFpNY01SM0Z4YnUzbk54SmpxbFFuaUg1YkZtSkxrdGJqZGVwQnRWTENJamp1aDMwYnZ4RFFUTU9sWHVUa250S0dSX1Eyb0NJWGJoTWdKMkNpbTJseDk2RTlOOEVTNUF6djJfa2VPVEVQMjJJSlBTSVcxb2VQWU5RMHgtdzZ3SWtSS002NHFmeGlZLVBfSEpFcEJXbUlHVTNURENkLUlxa2FDZ1lLQWJNU0FSQVNGUUhHWDJNaVN5RENEd1BTVU9hWDZFZlk2MTFHOFEwMjA2lIwGZXhwaXJ5lIwIZGF0ZXRpbWWUjAhkYXRldGltZZSTlEMKB+kHHgsUOAAAAJSFlFKUjBFfcXVvdGFfcHJvamVjdF9pZJROjA9fdHJ1c3RfYm91bmRhcnmUTowQX3VuaXZlcnNlX2RvbWFpbpSMDmdvb2dsZWFwaXMuY29tlIwZX3VzZV9ub25fYmxvY2tpbmdfcmVmcmVzaJSJjAdfc2NvcGVzlF2UjCVodHRwczovL3d3dy5nb29nbGVhcGlzLmNvbS9hdXRoL2RyaXZllGGMD19kZWZhdWx0X3Njb3Blc5ROjA5fcmVmcmVzaF90b2tlbpSMZzEvLzBjczBxMUxUZVE4SUlDZ1lJQVJBQUdBd1NOd0YtTDlJcnV1THV3Z2xld3Y1RG1VN24zak5id3pVU0NudVF6d09IeTRXS2dBam9HUlNiMHNhaXBFVFVqcUQ5eDZMTk1DS29ySDCUjAlfaWRfdG9rZW6UTowPX2dyYW50ZWRfc2NvcGVzlF2UjCVodHRwczovL3d3dy5nb29nbGVhcGlzLmNvbS9hdXRoL2RyaXZllGGMCl90b2tlbl91cmmUjCNodHRwczovL29hdXRoMi5nb29nbGVhcGlzLmNvbS90b2tlbpSMCl9jbGllbnRfaWSUjEg5MTQwNDc4ODM1ODItdTJtYjJsNDQ0Z2c1cGFzOG9pZ2ZvMHM4c2owYmpjYmUuYXBwcy5nb29nbGV1c2VyY29udGVudC5jb22UjA5fY2xpZW50X3NlY3JldJSMI0dPQ1NQWC1DOTcxYW9tQndRZVItZzhXMFd1bTVpTUtfLWlMlIwLX3JhcHRfdG9rZW6UTowWX2VuYWJsZV9yZWF1dGhfcmVmcmVzaJSJjAhfYWNjb3VudJSMAJSMD19jcmVkX2ZpbGVfcGF0aJROdWIu'\n",
        "\n",
        "# Создаем .env файл\n",
        "env_content = f'''TELEGRAM_BOT_TOKEN={os.environ['TELEGRAM_BOT_TOKEN']}\n",
        "GOOGLE_OAUTH_TOKEN_BASE64={os.environ['GOOGLE_OAUTH_TOKEN_BASE64']}\n",
        "'''\n",
        "\n",
        "with open('.env', 'w') as f:\n",
        "    f.write(env_content)\n",
        "\n",
        "print(\"✅ Переменные окружения настроены!\")\n",
        "print(\"📄 Создан файл .env\")"
      ]
    },
    {
      "cell_type": "markdown",
      "metadata": {
        "id": "cookies-header"
      },
      "source": [
        "## 🍪 Загрузка cookies файла"
      ]
    },
    {
      "cell_type": "code",
      "execution_count": null,
      "metadata": {
        "id": "upload-cookies"
      },
      "outputs": [],
      "source": [
        "# Загрузка cookies файла для yt-dlp\n",
        "from google.colab import files\n",
        "import os\n",
        "\n",
        "print(\"🍪 Загрузите ваш cookies.txt файл для YouTube:\")\n",
        "print(\"ℹ️ Этот файл нужен для скачивания приватных или возрастных видео\")\n",
        "print(\"ℹ️ Если у вас нет cookies файла, просто пропустите этот шаг\")\n",
        "\n",
        "try:\n",
        "    # Загружаем cookies файл\n",
        "    uploaded = files.upload()\n",
        "    \n",
        "    # Ищем cookies файл среди загруженных\n",
        "    cookies_file = None\n",
        "    for filename in uploaded.keys():\n",
        "        if 'cookies' in filename.lower() or filename.endswith('.txt'):\n",
        "            cookies_file = filename\n",
        "            break\n",
        "    \n",
        "    if cookies_file:\n",
        "        # Переименовываем в стандартное имя\n",
        "        if cookies_file != 'cookies.txt':\n",
        "            os.rename(cookies_file, 'cookies.txt')\n",
        "        \n",
        "        print(f\"✅ Cookies файл загружен: cookies.txt\")\n",
        "        \n",
        "        # Добавляем путь к cookies в переменные окружения\n",
        "        os.environ['COOKIES_FILE'] = '/content/telegram-bot/cookies.txt'\n",
        "        \n",
        "        # Обновляем .env файл\n",
        "        with open('.env', 'a') as f:\n",
        "            f.write(f'\\nCOOKIES_FILE={os.environ[\"COOKIES_FILE\"]}\\n')\n",
        "        \n",
        "        print(\"📄 Путь к cookies добавлен в .env\")\n",
        "    else:\n",
        "        print(\"⚠️ Cookies файл не найден среди загруженных\")\n",
        "        \n",
        "except Exception as e:\n",
        "    print(f\"ℹ️ Cookies файл не загружен: {e}\")\n",
        "    print(\"ℹ️ Бот будет работать без cookies (ограниченная функциональность)\")"
      ]
    },
    {
      "cell_type": "markdown",
      "metadata": {
        "id": "folders-header"
      },
      "source": [
        "## 📂 Создание необходимых папок"
      ]
    },
    {
      "cell_type": "code",
      "execution_count": null,
      "metadata": {
        "id": "create-folders"
      },
      "outputs": [],
      "source": [
        "# Создаем необходимые папки\n",
        "import os\n",
        "\n",
        "folders = ['temp', 'output']\n",
        "for folder in folders:\n",
        "    os.makedirs(folder, exist_ok=True)\n",
        "    print(f\"📁 Создана папка: {folder}\")\n",
        "\n",
        "print(\"✅ Все папки созданы!\")"
      ]
    },
    {
      "cell_type": "markdown",
      "metadata": {
        "id": "test-header"
      },
      "source": [
        "## 🧪 Тестирование импортов"
      ]
    },
    {
      "cell_type": "code",
      "execution_count": null,
      "metadata": {
        "id": "test-imports"
      },
      "outputs": [],
      "source": [
        "# Тестируем все импорты\n",
        "try:\n",
        "    import telegram\n",
        "    print(\"✅ telegram импортирован\")\n",
        "    \n",
        "    import yt_dlp\n",
        "    print(\"✅ yt_dlp импортирован\")\n",
        "    \n",
        "    import moviepy.editor as mp\n",
        "    print(\"✅ moviepy импортирован\")\n",
        "    \n",
        "    from google.oauth2.credentials import Credentials\n",
        "    print(\"✅ google.oauth2 импортирован\")\n",
        "    \n",
        "    from googleapiclient.discovery import build\n",
        "    print(\"✅ googleapiclient импортирован\")\n",
        "    \n",
        "    import asyncio\n",
        "    print(\"✅ asyncio импортирован\")\n",
        "    \n",
        "    print(\"\\n🎉 Все библиотеки успешно импортированы!\")\n",
        "    \n",
        "except ImportError as e:\n",
        "    print(f\"❌ Ошибка импорта: {e}\")"
      ]
    },
    {
      "cell_type": "markdown",
      "metadata": {
        "id": "run-header"
      },
      "source": [
        "## 🚀 Запуск бота"
      ]
    },
    {
      "cell_type": "code",
      "execution_count": null,
      "metadata": {
        "id": "run-bot"
      },
      "outputs": [],
      "source": [
        "# Запуск бота\n",
        "import subprocess\n",
        "import sys\n",
        "import os\n",
        "\n",
        "print(\"🤖 Запускаем Telegram бота...\")\n",
        "print(\"📍 Текущая директория:\", os.getcwd())\n",
        "print(\"📋 Файлы в директории:\")\n",
        "!ls -la\n",
        "\n",
        "# Запускаем основной файл бота\n",
        "try:\n",
        "    # Если есть run_bot.py, используем его\n",
        "    if os.path.exists('run_bot.py'):\n",
        "        print(\"🔄 Запускаем через run_bot.py\")\n",
        "        !python run_bot.py\n",
        "    # Иначе запускаем bot.py напрямую\n",
        "    elif os.path.exists('bot.py'):\n",
        "        print(\"🔄 Запускаем bot.py напрямую\")\n",
        "        !python bot.py\n",
        "    else:\n",
        "        print(\"❌ Не найден файл бота для запуска\")\n",
        "        print(\"📋 Доступные Python файлы:\")\n",
        "        !ls *.py\n",
        "        \n",
        "except KeyboardInterrupt:\n",
        "    print(\"\\n⏹️ Бот остановлен пользователем\")\n",
        "except Exception as e:\n",
        "    print(f\"❌ Ошибка при запуске бота: {e}\")"
      ]
    },
    {
      "cell_type": "markdown",
      "metadata": {
        "id": "logs-header"
      },
      "source": [
        "## 📊 Просмотр логов"
      ]
    },
    {
      "cell_type": "code",
      "execution_count": null,
      "metadata": {
        "id": "view-logs"
      },
      "outputs": [],
      "source": [
        "# Просмотр логов бота\n",
        "import os\n",
        "\n",
        "if os.path.exists('bot.log'):\n",
        "    print(\"📋 Последние 50 строк из bot.log:\")\n",
        "    !tail -50 bot.log\n",
        "else:\n",
        "    print(\"📋 Файл логов bot.log не найден\")\n",
        "    print(\"📁 Файлы в текущей директории:\")\n",
        "    !ls -la"
      ]
    },
    {
      "cell_type": "markdown",
      "metadata": {
        "id": "debug-header"
      },
      "source": [
        "## 🔧 Отладка и диагностика"
      ]
    },
    {
      "cell_type": "code",
      "execution_count": null,
      "metadata": {
        "id": "debug-info"
      },
      "outputs": [],
      "source": [
        "# Диагностическая информация\n",
        "import sys\n",
        "import os\n",
        "\n",
        "print(\"🔍 Диагностическая информация:\")\n",
        "print(f\"🐍 Python версия: {sys.version}\")\n",
        "print(f\"📍 Рабочая директория: {os.getcwd()}\")\n",
        "print(f\"🔑 TELEGRAM_BOT_TOKEN установлен: {'TELEGRAM_BOT_TOKEN' in os.environ}\")\n",
        "print(f\"🔑 GOOGLE_OAUTH_TOKEN_BASE64 установлен: {'GOOGLE_OAUTH_TOKEN_BASE64' in os.environ}\")\n",
        "\n",
        "print(\"\\n📦 Установленные пакеты:\")\n",
        "!pip list | grep -E \"telegram|yt-dlp|moviepy|google\"\n",
        "\n",
        "print(\"\\n💾 Использование диска:\")\n",
        "!df -h\n",
        "\n",
        "print(\"\\n🖥️ Использование памяти:\")\n",
        "!free -h\n",
        "\n",
        "print(\"\\n🎮 GPU информация:\")\n",
        "!nvidia-smi --query-gpu=name,memory.total,memory.used --format=csv"
      ]
    },
    {
      "cell_type": "markdown",
      "metadata": {
        "id": "manual-run-header"
      },
      "source": [
        "## 🔄 Ручной запуск (если автоматический не работает)"
      ]
    },
    {
      "cell_type": "code",
      "execution_count": null,
      "metadata": {
        "id": "manual-run"
      },
      "outputs": [],
      "source": [
        "# Ручной запуск бота с подробным выводом\n",
        "import os\n",
        "import sys\n",
        "\n",
        "# Добавляем текущую директорию в путь Python\n",
        "sys.path.insert(0, os.getcwd())\n",
        "\n",
        "print(\"🔄 Попытка ручного запуска бота...\")\n",
        "\n",
        "try:\n",
        "    # Импортируем и запускаем бота\n",
        "    if os.path.exists('bot.py'):\n",
        "        print(\"📥 Импортируем bot.py...\")\n",
        "        import bot\n",
        "        print(\"✅ bot.py успешно импортирован\")\n",
        "        \n",
        "        # Если есть функция main, запускаем её\n",
        "        if hasattr(bot, 'main'):\n",
        "            print(\"🚀 Запускаем функцию main()...\")\n",
        "            await bot.main()\n",
        "        else:\n",
        "            print(\"ℹ️ Функция main() не найдена в bot.py\")\n",
        "            \n",
        "    else:\n",
        "        print(\"❌ Файл bot.py не найден\")\n",
        "        \n",
        "except Exception as e:\n",
        "    print(f\"❌ Ошибка при ручном запуске: {e}\")\n",
        "    import traceback\n",
        "    traceback.print_exc()"
      ]
    },
    {
      "cell_type": "markdown",
      "metadata": {
        "id": "stop-header"
      },
      "source": [
        "## ⏹️ Остановка бота"
      ]
    },
    {
      "cell_type": "code",
      "execution_count": null,
      "metadata": {
        "id": "stop-bot"
      },
      "outputs": [],
      "source": [
        "# Остановка всех процессов бота\n",
        "import os\n",
        "import signal\n",
        "\n",
        "print(\"⏹️ Останавливаем все процессы бота...\")\n",
        "\n",
        "# Убиваем все Python процессы связанные с ботом\n",
        "!pkill -f \"python.*bot\"\n",
        "!pkill -f \"python.*run_bot\"\n",
        "\n",
        "print(\"✅ Все процессы остановлены\")"
      ]
    }
  ]
}